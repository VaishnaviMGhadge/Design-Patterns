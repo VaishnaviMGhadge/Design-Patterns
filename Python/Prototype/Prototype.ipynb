{
 "cells": [
  {
   "cell_type": "code",
   "execution_count": 48,
   "id": "3b0538f4",
   "metadata": {},
   "outputs": [
    {
     "name": "stdout",
     "output_type": "stream",
     "text": [
      "shreya lives at bhairoba galli, phaltan which is in the satara district\n",
      "-----------------------------------------------------------\n",
      "Pooja lives at bhairoba galli, phaltan which is in the satara district\n",
      "Pooja lives at bhairoba galli, phaltan which is in the satara district\n",
      "-----------------------------------------------------------\n",
      "-----------------------------------------------------------\n",
      "Pooja lives at bhairoba galli, Karad which is in the satara district\n",
      "Pooja lives at bhairoba galli, Karad which is in the satara district\n",
      "-----------------------------------------------------------\n",
      "Pooja lives at bhairoba galli, Karad which is in the satara district\n",
      "Vaishnavi lives at bhairoba galli, Karad which is in the satara district\n"
     ]
    }
   ],
   "source": [
    "import copy\n",
    "class Address:\n",
    "    def __init__(self,street,location,city):\n",
    "        self.street=street\n",
    "        self.location=location\n",
    "        self.city=city\n",
    "        \n",
    "    def __str__(self):\n",
    "        return f'{self.street}, {self.location} which is in the {self.city} district'\n",
    "    \n",
    "    \n",
    "class Parent:\n",
    "    def __init__(self,name,address):\n",
    "        self.name=name\n",
    "        self.address=address\n",
    "        \n",
    "    def __str__(self):\n",
    "         return(f'{self.name} lives at {self.address}')\n",
    "    \n",
    "    \n",
    "if __name__=='__main__':\n",
    "    parent1=Parent('shreya',Address('bhairoba galli','phaltan','satara'))\n",
    "    print(parent1)\n",
    "    parent2=parent1\n",
    "    parent2.name='Pooja'\n",
    "    print(\"-----------------------------------------------------------\")\n",
    "    print(parent2)\n",
    "    print(parent1)\n",
    "    print(\"-----------------------------------------------------------\")\n",
    "    parent2.address.location=\"Karad\"\n",
    "    print(\"-----------------------------------------------------------\")\n",
    "    print(parent1)\n",
    "    print(parent2)\n",
    "    print(\"-----------------------------------------------------------\")\n",
    "    \n",
    "    ## deep copy creation \n",
    "    parent2=copy.deepcopy(parent1)\n",
    "    parent2.name='Vaishnavi'\n",
    "    print(parent1)\n",
    "    print(parent2)\n",
    "    \n",
    "    \n",
    "    \n",
    "    \n",
    "        \n",
    "    \n",
    "            \n"
   ]
  },
  {
   "cell_type": "code",
   "execution_count": null,
   "id": "1484a23b",
   "metadata": {},
   "outputs": [],
   "source": []
  },
  {
   "cell_type": "code",
   "execution_count": null,
   "id": "f72c05db",
   "metadata": {},
   "outputs": [],
   "source": []
  },
  {
   "cell_type": "code",
   "execution_count": null,
   "id": "73e69f1b",
   "metadata": {},
   "outputs": [],
   "source": []
  }
 ],
 "metadata": {
  "kernelspec": {
   "display_name": "Python 3 (ipykernel)",
   "language": "python",
   "name": "python3"
  },
  "language_info": {
   "codemirror_mode": {
    "name": "ipython",
    "version": 3
   },
   "file_extension": ".py",
   "mimetype": "text/x-python",
   "name": "python",
   "nbconvert_exporter": "python",
   "pygments_lexer": "ipython3",
   "version": "3.9.13"
  }
 },
 "nbformat": 4,
 "nbformat_minor": 5
}
